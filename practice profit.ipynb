{
 "cells": [
  {
   "cell_type": "code",
   "execution_count": 2,
   "metadata": {},
   "outputs": [
    {
     "name": "stdout",
     "output_type": "stream",
     "text": [
      "Collecting fbprophet\n",
      "  Using cached fbprophet-0.7.1.tar.gz (64 kB)\n",
      "Requirement already satisfied: Cython>=0.22 in c:\\users\\dell\\anaconda3\\lib\\site-packages (from fbprophet) (0.29.21)\n",
      "Requirement already satisfied: cmdstanpy==0.9.5 in c:\\users\\dell\\anaconda3\\lib\\site-packages (from fbprophet) (0.9.5)\n",
      "Requirement already satisfied: pystan>=2.14 in c:\\users\\dell\\anaconda3\\lib\\site-packages (from fbprophet) (2.19.1.1)\n",
      "Requirement already satisfied: numpy>=1.15.4 in c:\\users\\dell\\anaconda3\\lib\\site-packages (from fbprophet) (1.18.5)\n",
      "Requirement already satisfied: pandas>=1.0.4 in c:\\users\\dell\\anaconda3\\lib\\site-packages (from fbprophet) (1.0.5)\n",
      "Requirement already satisfied: matplotlib>=2.0.0 in c:\\users\\dell\\anaconda3\\lib\\site-packages (from fbprophet) (3.2.2)\n",
      "Requirement already satisfied: LunarCalendar>=0.0.9 in c:\\users\\dell\\anaconda3\\lib\\site-packages (from fbprophet) (0.0.9)Note: you may need to restart the kernel to use updated packages.\n",
      "\n"
     ]
    },
    {
     "name": "stderr",
     "output_type": "stream",
     "text": [
      "  ERROR: Command errored out with exit status 1:\n",
      "   command: 'C:\\Users\\dell\\anaconda3\\python.exe' -u -c 'import sys, setuptools, tokenize; sys.argv[0] = '\"'\"'C:\\\\Users\\\\dell\\\\AppData\\\\Local\\\\Temp\\\\pip-install-xry85vp_\\\\fbprophet\\\\setup.py'\"'\"'; __file__='\"'\"'C:\\\\Users\\\\dell\\\\AppData\\\\Local\\\\Temp\\\\pip-install-xry85vp_\\\\fbprophet\\\\setup.py'\"'\"';f=getattr(tokenize, '\"'\"'open'\"'\"', open)(__file__);code=f.read().replace('\"'\"'\\r\\n'\"'\"', '\"'\"'\\n'\"'\"');f.close();exec(compile(code, __file__, '\"'\"'exec'\"'\"'))' bdist_wheel -d 'C:\\Users\\dell\\AppData\\Local\\Temp\\pip-wheel-0pu1zx4x'\n",
      "       cwd: C:\\Users\\dell\\AppData\\Local\\Temp\\pip-install-xry85vp_\\fbprophet\\\n",
      "  Complete output (11 lines):\n",
      "  running bdist_wheel\n",
      "  running build\n",
      "  running build_py\n",
      "  creating build\n",
      "  creating build\\lib\n",
      "  creating build\\lib\\fbprophet\n",
      "  creating build\\lib\\fbprophet\\stan_model\n",
      "  Importing plotly failed. Interactive plots will not work.\n",
      "  INFO:pystan:COMPILING THE C++ CODE FOR MODEL anon_model_f5236004a3fd5b8429270d00efcc0cf9 NOW.\n",
      "  WARNING:pystan:MSVC compiler is not supported\n",
      "  error: Microsoft Visual C++ 14.0 is required. Get it with \"Build Tools for Visual Studio\": https://visualstudio.microsoft.com/downloads/\n",
      "  ----------------------------------------\n",
      "  ERROR: Failed building wheel for fbprophet\n",
      "    ERROR: Command errored out with exit status 1:\n",
      "     command: 'C:\\Users\\dell\\anaconda3\\python.exe' -u -c 'import sys, setuptools, tokenize; sys.argv[0] = '\"'\"'C:\\\\Users\\\\dell\\\\AppData\\\\Local\\\\Temp\\\\pip-install-xry85vp_\\\\fbprophet\\\\setup.py'\"'\"'; __file__='\"'\"'C:\\\\Users\\\\dell\\\\AppData\\\\Local\\\\Temp\\\\pip-install-xry85vp_\\\\fbprophet\\\\setup.py'\"'\"';f=getattr(tokenize, '\"'\"'open'\"'\"', open)(__file__);code=f.read().replace('\"'\"'\\r\\n'\"'\"', '\"'\"'\\n'\"'\"');f.close();exec(compile(code, __file__, '\"'\"'exec'\"'\"'))' install --record 'C:\\Users\\dell\\AppData\\Local\\Temp\\pip-record-zg3o04c4\\install-record.txt' --single-version-externally-managed --compile --install-headers 'C:\\Users\\dell\\anaconda3\\Include\\fbprophet'\n",
      "         cwd: C:\\Users\\dell\\AppData\\Local\\Temp\\pip-install-xry85vp_\\fbprophet\\\n",
      "    Complete output (11 lines):\n",
      "    running install\n",
      "    running build\n",
      "    running build_py\n",
      "    creating build\n",
      "    creating build\\lib\n",
      "    creating build\\lib\\fbprophet\n",
      "    creating build\\lib\\fbprophet\\stan_model\n",
      "    Importing plotly failed. Interactive plots will not work.\n",
      "    INFO:pystan:COMPILING THE C++ CODE FOR MODEL anon_model_f5236004a3fd5b8429270d00efcc0cf9 NOW.\n",
      "    WARNING:pystan:MSVC compiler is not supported\n",
      "    error: Microsoft Visual C++ 14.0 is required. Get it with \"Build Tools for Visual Studio\": https://visualstudio.microsoft.com/downloads/\n",
      "    ----------------------------------------\n",
      "ERROR: Command errored out with exit status 1: 'C:\\Users\\dell\\anaconda3\\python.exe' -u -c 'import sys, setuptools, tokenize; sys.argv[0] = '\"'\"'C:\\\\Users\\\\dell\\\\AppData\\\\Local\\\\Temp\\\\pip-install-xry85vp_\\\\fbprophet\\\\setup.py'\"'\"'; __file__='\"'\"'C:\\\\Users\\\\dell\\\\AppData\\\\Local\\\\Temp\\\\pip-install-xry85vp_\\\\fbprophet\\\\setup.py'\"'\"';f=getattr(tokenize, '\"'\"'open'\"'\"', open)(__file__);code=f.read().replace('\"'\"'\\r\\n'\"'\"', '\"'\"'\\n'\"'\"');f.close();exec(compile(code, __file__, '\"'\"'exec'\"'\"'))' install --record 'C:\\Users\\dell\\AppData\\Local\\Temp\\pip-record-zg3o04c4\\install-record.txt' --single-version-externally-managed --compile --install-headers 'C:\\Users\\dell\\anaconda3\\Include\\fbprophet' Check the logs for full command output.\n"
     ]
    },
    {
     "name": "stdout",
     "output_type": "stream",
     "text": [
      "Requirement already satisfied: convertdate>=2.1.2 in c:\\users\\dell\\anaconda3\\lib\\site-packages (from fbprophet) (2.3.2)\n",
      "Requirement already satisfied: holidays>=0.10.2 in c:\\users\\dell\\anaconda3\\lib\\site-packages (from fbprophet) (0.11.2)\n",
      "Requirement already satisfied: setuptools-git>=1.2 in c:\\users\\dell\\anaconda3\\lib\\site-packages (from fbprophet) (1.2)\n",
      "Requirement already satisfied: python-dateutil>=2.8.0 in c:\\users\\dell\\anaconda3\\lib\\site-packages (from fbprophet) (2.8.1)\n",
      "Requirement already satisfied: tqdm>=4.36.1 in c:\\users\\dell\\anaconda3\\lib\\site-packages (from fbprophet) (4.47.0)\n",
      "Requirement already satisfied: pytz>=2017.2 in c:\\users\\dell\\anaconda3\\lib\\site-packages (from pandas>=1.0.4->fbprophet) (2020.1)\n",
      "Requirement already satisfied: pyparsing!=2.0.4,!=2.1.2,!=2.1.6,>=2.0.1 in c:\\users\\dell\\anaconda3\\lib\\site-packages (from matplotlib>=2.0.0->fbprophet) (2.4.7)\n",
      "Requirement already satisfied: cycler>=0.10 in c:\\users\\dell\\anaconda3\\lib\\site-packages (from matplotlib>=2.0.0->fbprophet) (0.10.0)\n",
      "Requirement already satisfied: kiwisolver>=1.0.1 in c:\\users\\dell\\anaconda3\\lib\\site-packages (from matplotlib>=2.0.0->fbprophet) (1.2.0)\n",
      "Requirement already satisfied: ephem>=3.7.5.3 in c:\\users\\dell\\anaconda3\\lib\\site-packages (from LunarCalendar>=0.0.9->fbprophet) (4.0.0.2)\n",
      "Requirement already satisfied: pymeeus<=1,>=0.3.13 in c:\\users\\dell\\anaconda3\\lib\\site-packages (from convertdate>=2.1.2->fbprophet) (0.5.11)\n",
      "Requirement already satisfied: hijri-converter in c:\\users\\dell\\anaconda3\\lib\\site-packages (from holidays>=0.10.2->fbprophet) (2.1.3)\n",
      "Requirement already satisfied: korean-lunar-calendar in c:\\users\\dell\\anaconda3\\lib\\site-packages (from holidays>=0.10.2->fbprophet) (0.2.1)\n",
      "Requirement already satisfied: six in c:\\users\\dell\\anaconda3\\lib\\site-packages (from holidays>=0.10.2->fbprophet) (1.15.0)\n",
      "Building wheels for collected packages: fbprophet\n",
      "  Building wheel for fbprophet (setup.py): started\n",
      "  Building wheel for fbprophet (setup.py): finished with status 'error'\n",
      "  Running setup.py clean for fbprophet\n",
      "Failed to build fbprophet\n",
      "Installing collected packages: fbprophet\n",
      "    Running setup.py install for fbprophet: started\n",
      "    Running setup.py install for fbprophet: finished with status 'error'\n"
     ]
    }
   ],
   "source": [
    "pip install fbprophet"
   ]
  },
  {
   "cell_type": "code",
   "execution_count": 4,
   "metadata": {},
   "outputs": [
    {
     "name": "stdout",
     "output_type": "stream",
     "text": [
      "Requirement already satisfied: pystan in c:\\users\\dell\\anaconda3\\lib\\site-packages (2.19.1.1)\n",
      "Requirement already satisfied: Cython!=0.25.1,>=0.22 in c:\\users\\dell\\anaconda3\\lib\\site-packages (from pystan) (0.29.21)\n",
      "Requirement already satisfied: numpy>=1.7 in c:\\users\\dell\\anaconda3\\lib\\site-packages (from pystan) (1.18.5)\n",
      "Note: you may need to restart the kernel to use updated packages.\n"
     ]
    }
   ],
   "source": [
    "pip install pystan"
   ]
  },
  {
   "cell_type": "code",
   "execution_count": 5,
   "metadata": {},
   "outputs": [
    {
     "name": "stdout",
     "output_type": "stream",
     "text": [
      "^C\n",
      "\n",
      "Note: you may need to restart the kernel to use updated packages.\n"
     ]
    }
   ],
   "source": [
    "conda install -c conda-forge prophet."
   ]
  },
  {
   "cell_type": "code",
   "execution_count": null,
   "metadata": {},
   "outputs": [],
   "source": []
  }
 ],
 "metadata": {
  "kernelspec": {
   "display_name": "Python 3",
   "language": "python",
   "name": "python3"
  },
  "language_info": {
   "codemirror_mode": {
    "name": "ipython",
    "version": 3
   },
   "file_extension": ".py",
   "mimetype": "text/x-python",
   "name": "python",
   "nbconvert_exporter": "python",
   "pygments_lexer": "ipython3",
   "version": "3.8.3"
  }
 },
 "nbformat": 4,
 "nbformat_minor": 4
}
